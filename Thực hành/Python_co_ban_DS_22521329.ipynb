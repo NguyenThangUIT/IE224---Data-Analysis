{
 "cells": [
  {
   "cell_type": "markdown",
   "id": "b6a529a8-d5b1-4332-a070-f44a46b24914",
   "metadata": {},
   "source": [
    "# Phần I. Giới thiệu"
   ]
  },
  {
   "cell_type": "code",
   "execution_count": 1,
   "id": "fa170c15-d718-49cc-a9dc-e747956a70e3",
   "metadata": {},
   "outputs": [],
   "source": [
    "x = 12"
   ]
  },
  {
   "cell_type": "code",
   "execution_count": 2,
   "id": "59fc037e-c577-4dc9-93ad-28cbb3994a25",
   "metadata": {},
   "outputs": [
    {
     "data": {
      "text/plain": [
       "12"
      ]
     },
     "execution_count": 2,
     "metadata": {},
     "output_type": "execute_result"
    }
   ],
   "source": [
    "x"
   ]
  },
  {
   "cell_type": "code",
   "execution_count": 6,
   "id": "432a56f7-fe3b-4ee5-a3dc-2fcf85483bfc",
   "metadata": {},
   "outputs": [],
   "source": [
    "del x"
   ]
  },
  {
   "cell_type": "code",
   "execution_count": 7,
   "id": "fa5bb7db-6658-4096-8871-002f3061a8ca",
   "metadata": {},
   "outputs": [
    {
     "ename": "NameError",
     "evalue": "name 'x' is not defined",
     "output_type": "error",
     "traceback": [
      "\u001b[1;31m---------------------------------------------------------------------------\u001b[0m",
      "\u001b[1;31mNameError\u001b[0m                                 Traceback (most recent call last)",
      "Cell \u001b[1;32mIn[7], line 1\u001b[0m\n\u001b[1;32m----> 1\u001b[0m x\n",
      "\u001b[1;31mNameError\u001b[0m: name 'x' is not defined"
     ]
    }
   ],
   "source": [
    "x"
   ]
  },
  {
   "cell_type": "code",
   "execution_count": 8,
   "id": "b1da2cc7-2c1e-4106-94c0-b534165d509e",
   "metadata": {},
   "outputs": [],
   "source": [
    "y = 1.5"
   ]
  },
  {
   "cell_type": "code",
   "execution_count": 11,
   "id": "f2e8aeb4-b01b-419c-9f25-fe99d3a2ec43",
   "metadata": {},
   "outputs": [
    {
     "name": "stdout",
     "output_type": "stream",
     "text": [
      "1.5\n"
     ]
    },
    {
     "data": {
      "text/plain": [
       "float"
      ]
     },
     "execution_count": 11,
     "metadata": {},
     "output_type": "execute_result"
    }
   ],
   "source": [
    "print(y)\n",
    "type(y)"
   ]
  },
  {
   "cell_type": "code",
   "execution_count": 12,
   "id": "ec5df251-4e3b-4545-b0f6-374f8e79f53e",
   "metadata": {},
   "outputs": [],
   "source": [
    "del y"
   ]
  },
  {
   "cell_type": "markdown",
   "id": "17d78011-ae3b-4f69-984d-593782a32eaa",
   "metadata": {},
   "source": [
    "# Phần II. Các kiểu dữ liệu cơ sở"
   ]
  },
  {
   "cell_type": "markdown",
   "id": "bc0afc7a-bd81-404f-8de5-682db1687870",
   "metadata": {},
   "source": [
    "## 1. Kiểu số - int - float"
   ]
  },
  {
   "cell_type": "code",
   "execution_count": 14,
   "id": "246eecc5-fe10-4773-8eb5-d48126cbb0c3",
   "metadata": {},
   "outputs": [],
   "source": [
    "a = 2\n",
    "b = 3.0\n",
    "c = 10.8"
   ]
  },
  {
   "cell_type": "code",
   "execution_count": 17,
   "id": "bb8599f5-83d7-4f73-bbee-fabf0108f608",
   "metadata": {},
   "outputs": [
    {
     "name": "stdout",
     "output_type": "stream",
     "text": [
      "<class 'float'>\n"
     ]
    }
   ],
   "source": [
    "print (type(b))"
   ]
  },
  {
   "cell_type": "code",
   "execution_count": 19,
   "id": "05c38ff8-1306-4579-a73b-37decc5fb021",
   "metadata": {},
   "outputs": [],
   "source": [
    "import math"
   ]
  },
  {
   "cell_type": "code",
   "execution_count": 20,
   "id": "21d17f23-611e-4aec-b464-3f1abde5b32e",
   "metadata": {},
   "outputs": [
    {
     "data": {
      "text/plain": [
       "3.7416573867739413"
      ]
     },
     "execution_count": 20,
     "metadata": {},
     "output_type": "execute_result"
    }
   ],
   "source": [
    "math.sqrt(14)"
   ]
  },
  {
   "cell_type": "code",
   "execution_count": 22,
   "id": "a6a7311f-04e8-486a-ac40-33e8cdc357d6",
   "metadata": {},
   "outputs": [
    {
     "data": {
      "text/plain": [
       "[10, 12, 14, 16, 18, 20, 22, 24, 26, 28]"
      ]
     },
     "execution_count": 22,
     "metadata": {},
     "output_type": "execute_result"
    }
   ],
   "source": [
    "r = range(10, 29, 2)\n",
    "list(r)"
   ]
  },
  {
   "cell_type": "code",
   "execution_count": 23,
   "id": "eb2c0bc3-9b67-4962-8184-836413e16518",
   "metadata": {},
   "outputs": [
    {
     "data": {
      "text/plain": [
       "[10, 11, 12, 13, 14, 15, 16, 17, 18, 19, 20, 21, 22, 23, 24, 25, 26, 27, 28]"
      ]
     },
     "execution_count": 23,
     "metadata": {},
     "output_type": "execute_result"
    }
   ],
   "source": [
    "r = range(10, 29)\n",
    "list(r)"
   ]
  },
  {
   "cell_type": "code",
   "execution_count": 24,
   "id": "82edd724-09e6-420f-9b74-9fc9d3368dd8",
   "metadata": {},
   "outputs": [
    {
     "data": {
      "text/plain": [
       "[0, 1, 2, 3, 4, 5, 6, 7, 8, 9]"
      ]
     },
     "execution_count": 24,
     "metadata": {},
     "output_type": "execute_result"
    }
   ],
   "source": [
    "r = range(10)\n",
    "list(r)"
   ]
  },
  {
   "cell_type": "markdown",
   "id": "49891c63-ac7f-4a85-a485-8e19d3e4d37e",
   "metadata": {},
   "source": [
    "## 2. Kiểu chuỗi - string"
   ]
  },
  {
   "cell_type": "code",
   "execution_count": 2,
   "id": "f92cd58b-0f58-4a2a-84dc-31bffa5481e9",
   "metadata": {},
   "outputs": [],
   "source": [
    "#C.+    0123...        16\n",
    "name = 'Nguyễn Cao Thắng'\n",
    "#C.-  -16...           -1\n",
    "address = \"P. Tân Phú, Tp. Thủ Đức\""
   ]
  },
  {
   "cell_type": "code",
   "execution_count": 33,
   "id": "ffba68b1-8a77-4d78-b15d-9d9775a9a412",
   "metadata": {},
   "outputs": [
    {
     "name": "stdout",
     "output_type": "stream",
     "text": [
      "ễ\n"
     ]
    }
   ],
   "source": [
    "n = name[-12]\n",
    "print(n)"
   ]
  },
  {
   "cell_type": "code",
   "execution_count": 34,
   "id": "be2044c4-cffa-490c-be3b-b8ae826b902d",
   "metadata": {},
   "outputs": [],
   "source": [
    "age = 20"
   ]
  },
  {
   "cell_type": "code",
   "execution_count": 35,
   "id": "be1943e0-aa05-46f0-96af-2e3ac1657d7a",
   "metadata": {},
   "outputs": [
    {
     "data": {
      "text/plain": [
       "'Nguyễn Cao Thắng: 20'"
      ]
     },
     "execution_count": 35,
     "metadata": {},
     "output_type": "execute_result"
    }
   ],
   "source": [
    "name + \": \" + str(age)"
   ]
  },
  {
   "cell_type": "code",
   "execution_count": 36,
   "id": "352486dc-5528-4d8a-9bcf-8a5357a3444c",
   "metadata": {},
   "outputs": [
    {
     "data": {
      "text/plain": [
       "43"
      ]
     },
     "execution_count": 36,
     "metadata": {},
     "output_type": "execute_result"
    }
   ],
   "source": [
    "int('20') + 23"
   ]
  },
  {
   "cell_type": "code",
   "execution_count": 37,
   "id": "0759d604-4e40-40be-8e63-deb7f1c12266",
   "metadata": {},
   "outputs": [
    {
     "data": {
      "text/plain": [
       "['Nguyễn', 'Cao', 'Thắng']"
      ]
     },
     "execution_count": 37,
     "metadata": {},
     "output_type": "execute_result"
    }
   ],
   "source": [
    "name.split(\" \")"
   ]
  },
  {
   "cell_type": "code",
   "execution_count": 5,
   "id": "72f5f077",
   "metadata": {},
   "outputs": [
    {
     "data": {
      "text/plain": [
       "'P. Tân Phú, Tp. Thủ Đức'"
      ]
     },
     "execution_count": 5,
     "metadata": {},
     "output_type": "execute_result"
    }
   ],
   "source": [
    "address.format(\"Thành phố Hồ Chí Minh\")"
   ]
  },
  {
   "cell_type": "markdown",
   "id": "e39f0ec1-9848-42bb-8daf-0ba2fcec0ba1",
   "metadata": {},
   "source": [
    "## 3. Kiểu danh sách - list"
   ]
  },
  {
   "cell_type": "code",
   "execution_count": 8,
   "id": "4ce0886b-b0c6-43b6-a71c-6fb20f5d8f9b",
   "metadata": {},
   "outputs": [
    {
     "ename": "NameError",
     "evalue": "name 'IE221' is not defined",
     "output_type": "error",
     "traceback": [
      "\u001b[1;31m---------------------------------------------------------------------------\u001b[0m",
      "\u001b[1;31mNameError\u001b[0m                                 Traceback (most recent call last)",
      "Cell \u001b[1;32mIn[8], line 1\u001b[0m\n\u001b[1;32m----> 1\u001b[0m l0 \u001b[38;5;241m=\u001b[39m [\u001b[38;5;241m12\u001b[39m, \u001b[38;5;124m'\u001b[39m\u001b[38;5;124mNCT\u001b[39m\u001b[38;5;124m'\u001b[39m, \u001b[38;5;241m5.3\u001b[39m, \u001b[38;5;124m'\u001b[39m\u001b[38;5;124mPython\u001b[39m\u001b[38;5;124m'\u001b[39m, [IE221, IE224]]\n",
      "\u001b[1;31mNameError\u001b[0m: name 'IE221' is not defined"
     ]
    }
   ],
   "source": [
    "[12, 'NCT', 5.3, 'Python']\n",
    "#+0    1     2       3\n",
    "#-4   -3    -2      -1"
   ]
  },
  {
   "cell_type": "code",
   "execution_count": 9,
   "id": "a2902ec0-1c33-46ac-af8c-ef1153f66377",
   "metadata": {},
   "outputs": [
    {
     "name": "stdout",
     "output_type": "stream",
     "text": [
      "[12, 'NCT', 5.3, 'Python']\n"
     ]
    }
   ],
   "source": [
    "l = [12,\n",
    "    'NCT', \n",
    "    5.3, \n",
    "    'Python']\n",
    "print(l)"
   ]
  },
  {
   "cell_type": "code",
   "execution_count": 11,
   "id": "d6768bc2-fa26-4d24-96e3-dc683ed8a240",
   "metadata": {},
   "outputs": [
    {
     "data": {
      "text/plain": [
       "[12, 'NCT', 'Nguyễn Cao Thắng', 'Python', 8.21]"
      ]
     },
     "execution_count": 11,
     "metadata": {},
     "output_type": "execute_result"
    }
   ],
   "source": [
    "l[2] = 'Nguyễn Cao Thắng'\n",
    "l"
   ]
  },
  {
   "cell_type": "code",
   "execution_count": 10,
   "id": "2e756c5f-f583-4c97-a714-6c5e21f03b76",
   "metadata": {},
   "outputs": [
    {
     "data": {
      "text/plain": [
       "[12, 'NCT', 5.3, 'Python', 8.21]"
      ]
     },
     "execution_count": 10,
     "metadata": {},
     "output_type": "execute_result"
    }
   ],
   "source": [
    "l.append(8.21)\n",
    "l"
   ]
  },
  {
   "cell_type": "code",
   "execution_count": 12,
   "id": "03c40acb-d32c-4551-b0cb-40d184256908",
   "metadata": {},
   "outputs": [
    {
     "data": {
      "text/plain": [
       "[12, 'NCT', 'Python', 8.21]"
      ]
     },
     "execution_count": 12,
     "metadata": {},
     "output_type": "execute_result"
    }
   ],
   "source": [
    "del l[-3]\n",
    "l"
   ]
  },
  {
   "cell_type": "code",
   "execution_count": 13,
   "id": "4431fe89-309f-4bcb-86a9-2e579276409e",
   "metadata": {},
   "outputs": [
    {
     "data": {
      "text/plain": [
       "[12, 'Python', 8.21]"
      ]
     },
     "execution_count": 13,
     "metadata": {},
     "output_type": "execute_result"
    }
   ],
   "source": [
    "l.remove('NCT')\n",
    "l"
   ]
  },
  {
   "cell_type": "markdown",
   "id": "a26d3ee9",
   "metadata": {},
   "source": [
    "## 4. Kiểu tupple"
   ]
  },
  {
   "cell_type": "code",
   "execution_count": 16,
   "id": "ae0e35ac",
   "metadata": {},
   "outputs": [],
   "source": [
    "tup = (12, 'NCT', 5.3, 'Python')"
   ]
  },
  {
   "cell_type": "code",
   "execution_count": 17,
   "id": "ced23302",
   "metadata": {},
   "outputs": [
    {
     "data": {
      "text/plain": [
       "(12, 'NCT', 5.3, 'Python')"
      ]
     },
     "execution_count": 17,
     "metadata": {},
     "output_type": "execute_result"
    }
   ],
   "source": [
    "tup"
   ]
  },
  {
   "cell_type": "code",
   "execution_count": 18,
   "id": "5171890d",
   "metadata": {},
   "outputs": [
    {
     "data": {
      "text/plain": [
       "('NCT', 5.3)"
      ]
     },
     "execution_count": 18,
     "metadata": {},
     "output_type": "execute_result"
    }
   ],
   "source": [
    "tup[1:3]"
   ]
  },
  {
   "cell_type": "code",
   "execution_count": 19,
   "id": "5caf92e7",
   "metadata": {},
   "outputs": [
    {
     "data": {
      "text/plain": [
       "tuple"
      ]
     },
     "execution_count": 19,
     "metadata": {},
     "output_type": "execute_result"
    }
   ],
   "source": [
    "type(tup)"
   ]
  },
  {
   "cell_type": "code",
   "execution_count": 7,
   "id": "5fbaa061",
   "metadata": {},
   "outputs": [
    {
     "ename": "NameError",
     "evalue": "name 'tup' is not defined",
     "output_type": "error",
     "traceback": [
      "\u001b[1;31m---------------------------------------------------------------------------\u001b[0m",
      "\u001b[1;31mNameError\u001b[0m                                 Traceback (most recent call last)",
      "Cell \u001b[1;32mIn[7], line 1\u001b[0m\n\u001b[1;32m----> 1\u001b[0m \u001b[38;5;28;01mdel\u001b[39;00m \u001b[43mtup\u001b[49m\n\u001b[0;32m      2\u001b[0m \u001b[38;5;28mprint\u001b[39m(tup)\n",
      "\u001b[1;31mNameError\u001b[0m: name 'tup' is not defined"
     ]
    }
   ],
   "source": [
    "del tup\n",
    "print(tup)"
   ]
  },
  {
   "cell_type": "code",
   "execution_count": 21,
   "id": "191f01df",
   "metadata": {},
   "outputs": [
    {
     "data": {
      "text/plain": [
       "(12, 'NCT', 5.3, 'Python')"
      ]
     },
     "execution_count": 21,
     "metadata": {},
     "output_type": "execute_result"
    }
   ],
   "source": [
    "tuple([12, 'NCT', 5.3, 'Python'])"
   ]
  },
  {
   "cell_type": "markdown",
   "id": "e149e7b6",
   "metadata": {},
   "source": [
    "## 5. Kiểu từ điển - dictionary -dict"
   ]
  },
  {
   "cell_type": "code",
   "execution_count": 25,
   "id": "349b3782",
   "metadata": {},
   "outputs": [],
   "source": [
    "d = {\n",
    "    'MSSV':22521329,\n",
    "    'Ho_Ten':'Nguyễn Cao Thắng',\n",
    "    'DTB':8.3,\n",
    "    '221':'Python'\n",
    "}"
   ]
  },
  {
   "cell_type": "code",
   "execution_count": 23,
   "id": "287bbe10",
   "metadata": {},
   "outputs": [],
   "source": [
    "d1 = {'MSSV':22521329, 'Ho_Ten':'Nguyễn Cao Thắng', 'DTB':8.3, '221':'Python'}"
   ]
  },
  {
   "cell_type": "code",
   "execution_count": 27,
   "id": "79333c99",
   "metadata": {},
   "outputs": [
    {
     "data": {
      "text/plain": [
       "22521329"
      ]
     },
     "execution_count": 27,
     "metadata": {},
     "output_type": "execute_result"
    }
   ],
   "source": [
    "d['MSSV']"
   ]
  },
  {
   "cell_type": "code",
   "execution_count": 28,
   "id": "90370d3f",
   "metadata": {},
   "outputs": [
    {
     "data": {
      "text/plain": [
       "'Ky thuat lap trinh Python'"
      ]
     },
     "execution_count": 28,
     "metadata": {},
     "output_type": "execute_result"
    }
   ],
   "source": [
    "d['221'] = 'Ky thuat lap trinh Python'\n",
    "d['221']"
   ]
  },
  {
   "cell_type": "code",
   "execution_count": 30,
   "id": "c8de7747",
   "metadata": {},
   "outputs": [],
   "source": [
    "d2 = {\n",
    "    'MSSV':22521329,\n",
    "    'Ho_Ten':'Nguyễn Cao Thắng',\n",
    "    'DTB':8.3,\n",
    "    (221, 12):'Python'\n",
    "}\n",
    "#Keyword không thay đổi, nên không thể là 1 list"
   ]
  },
  {
   "cell_type": "code",
   "execution_count": 31,
   "id": "408ee07c",
   "metadata": {},
   "outputs": [
    {
     "name": "stdout",
     "output_type": "stream",
     "text": [
      "{'MSSV': 22521329, 'Ho_Ten': 'Nguyễn Cao Thắng', 'DTB': 8.3, '221': 'Ky thuat lap trinh Python', 'DRL': 100}\n"
     ]
    }
   ],
   "source": [
    "d['DRL'] = 100\n",
    "print(d)"
   ]
  },
  {
   "cell_type": "code",
   "execution_count": 32,
   "id": "8002e35f",
   "metadata": {},
   "outputs": [
    {
     "data": {
      "text/plain": [
       "{}"
      ]
     },
     "execution_count": 32,
     "metadata": {},
     "output_type": "execute_result"
    }
   ],
   "source": [
    "d1.clear()\n",
    "d1"
   ]
  },
  {
   "cell_type": "code",
   "execution_count": 33,
   "id": "558e75f9",
   "metadata": {},
   "outputs": [],
   "source": [
    "del d1"
   ]
  },
  {
   "cell_type": "code",
   "execution_count": 34,
   "id": "0f610de2",
   "metadata": {},
   "outputs": [
    {
     "data": {
      "text/plain": [
       "{'MSSV': 22521329, 'Ho_Ten': 'Nguyễn Cao Thắng', (221, 12): 'Python'}"
      ]
     },
     "execution_count": 34,
     "metadata": {},
     "output_type": "execute_result"
    }
   ],
   "source": [
    "del d2['DTB']\n",
    "d2"
   ]
  },
  {
   "cell_type": "code",
   "execution_count": 40,
   "id": "efdd6317",
   "metadata": {},
   "outputs": [
    {
     "data": {
      "text/plain": [
       "'Nguyễn Cao Thắng'"
      ]
     },
     "execution_count": 40,
     "metadata": {},
     "output_type": "execute_result"
    }
   ],
   "source": [
    "d.get('Ho_Ten', 'Không có thông tin')"
   ]
  },
  {
   "cell_type": "code",
   "execution_count": 37,
   "id": "65161e9c",
   "metadata": {},
   "outputs": [
    {
     "data": {
      "text/plain": [
       "'Không có thông tin'"
      ]
     },
     "execution_count": 37,
     "metadata": {},
     "output_type": "execute_result"
    }
   ],
   "source": [
    "dict.get(d, 'Lop', 'Không có thông tin')"
   ]
  },
  {
   "cell_type": "code",
   "execution_count": 41,
   "id": "235db5c5",
   "metadata": {},
   "outputs": [
    {
     "ename": "KeyError",
     "evalue": "'Lop'",
     "output_type": "error",
     "traceback": [
      "\u001b[1;31m---------------------------------------------------------------------------\u001b[0m",
      "\u001b[1;31mKeyError\u001b[0m                                  Traceback (most recent call last)",
      "Cell \u001b[1;32mIn[41], line 1\u001b[0m\n\u001b[1;32m----> 1\u001b[0m \u001b[43md\u001b[49m\u001b[43m[\u001b[49m\u001b[38;5;124;43m'\u001b[39;49m\u001b[38;5;124;43mLop\u001b[39;49m\u001b[38;5;124;43m'\u001b[39;49m\u001b[43m]\u001b[49m\n",
      "\u001b[1;31mKeyError\u001b[0m: 'Lop'"
     ]
    }
   ],
   "source": [
    "d['Lop']"
   ]
  },
  {
   "cell_type": "markdown",
   "id": "f3db6224",
   "metadata": {},
   "source": [
    "## 6. Kiểu tập hợp - set"
   ]
  },
  {
   "cell_type": "code",
   "execution_count": 42,
   "id": "33886bec",
   "metadata": {},
   "outputs": [
    {
     "data": {
      "text/plain": [
       "{12, 5.3, 'NCT', 'Python'}"
      ]
     },
     "execution_count": 42,
     "metadata": {},
     "output_type": "execute_result"
    }
   ],
   "source": [
    "#no index, no key => index = value\n",
    "set1 = {12, \n",
    "        'NCT', \n",
    "        5.3, \n",
    "        'Python',\n",
    "        12.0\n",
    "}\n",
    "set1"
   ]
  },
  {
   "cell_type": "code",
   "execution_count": 43,
   "id": "0a757b3b",
   "metadata": {},
   "outputs": [],
   "source": [
    "set2 = set()"
   ]
  },
  {
   "cell_type": "code",
   "execution_count": 44,
   "id": "ca1c9040",
   "metadata": {},
   "outputs": [
    {
     "data": {
      "text/plain": [
       "True"
      ]
     },
     "execution_count": 44,
     "metadata": {},
     "output_type": "execute_result"
    }
   ],
   "source": [
    "set2.issubset(set1)"
   ]
  },
  {
   "cell_type": "markdown",
   "id": "9aae01c1",
   "metadata": {},
   "source": [
    "## 7. Kiểu boolean - bool"
   ]
  },
  {
   "cell_type": "code",
   "execution_count": 48,
   "id": "126d8e7b",
   "metadata": {},
   "outputs": [
    {
     "data": {
      "text/plain": [
       "False"
      ]
     },
     "execution_count": 48,
     "metadata": {},
     "output_type": "execute_result"
    }
   ],
   "source": [
    "      #     Số      , string          , list           , tuple           , dict           , set\n",
    "True  #các số khác 0, chuỗi không rỗng, list không rỗng, tuple không rỗng, dict không rỗng, set không rỗng\n",
    "False #0            , chuỗi rỗng      , list rỗng      , tuple rỗng      , dict rỗng      , set rỗng      , None"
   ]
  },
  {
   "cell_type": "code",
   "execution_count": 46,
   "id": "6209fc09",
   "metadata": {},
   "outputs": [
    {
     "data": {
      "text/plain": [
       "False"
      ]
     },
     "execution_count": 46,
     "metadata": {},
     "output_type": "execute_result"
    }
   ],
   "source": [
    "bool('')"
   ]
  },
  {
   "cell_type": "markdown",
   "id": "2a80f36b",
   "metadata": {},
   "source": [
    "## 8. Giá trị None"
   ]
  },
  {
   "cell_type": "code",
   "execution_count": 47,
   "id": "63567a60",
   "metadata": {},
   "outputs": [
    {
     "data": {
      "text/plain": [
       "False"
      ]
     },
     "execution_count": 47,
     "metadata": {},
     "output_type": "execute_result"
    }
   ],
   "source": [
    "my_gf = None\n",
    "bool(my_gf)"
   ]
  },
  {
   "cell_type": "markdown",
   "id": "74cbfcf3",
   "metadata": {},
   "source": [
    "## 9. Toán tử"
   ]
  },
  {
   "cell_type": "code",
   "execution_count": 49,
   "id": "3e1838bd",
   "metadata": {},
   "outputs": [
    {
     "data": {
      "text/plain": [
       "True"
      ]
     },
     "execution_count": 49,
     "metadata": {},
     "output_type": "execute_result"
    }
   ],
   "source": [
    "'Python' in set1"
   ]
  },
  {
   "cell_type": "code",
   "execution_count": 50,
   "id": "f2b51c07",
   "metadata": {},
   "outputs": [
    {
     "data": {
      "text/plain": [
       "True"
      ]
     },
     "execution_count": 50,
     "metadata": {},
     "output_type": "execute_result"
    }
   ],
   "source": [
    "'T' not in set1"
   ]
  },
  {
   "cell_type": "code",
   "execution_count": 52,
   "id": "8e94785c",
   "metadata": {},
   "outputs": [
    {
     "name": "stdout",
     "output_type": "stream",
     "text": [
      "[1, 2, 3, 4, 5]\n",
      "[1, 2, 3, 4, 5]\n",
      "[1, 2, 3, 4, 5]\n"
     ]
    }
   ],
   "source": [
    "l1 = [1, 2, 3, 4, 5]\n",
    "l2 = l1\n",
    "l3 = [1, 2, 3, 4, 5]\n",
    "print(l1)\n",
    "print(l2)\n",
    "print(l3)"
   ]
  },
  {
   "cell_type": "code",
   "execution_count": 58,
   "id": "580a5ef6",
   "metadata": {},
   "outputs": [
    {
     "name": "stdout",
     "output_type": "stream",
     "text": [
      "0x29adf64de80 \n",
      " 0x29adf64de80 \n",
      " 0x29adf649540\n"
     ]
    }
   ],
   "source": [
    "add1 = hex(id (l1))\n",
    "add2 = hex(id (l2))\n",
    "add3 = hex(id (l3))\n",
    "print (add1, \"\\n\", add2, \"\\n\", add3)"
   ]
  },
  {
   "cell_type": "code",
   "execution_count": 59,
   "id": "b02882ed",
   "metadata": {},
   "outputs": [
    {
     "data": {
      "text/plain": [
       "True"
      ]
     },
     "execution_count": 59,
     "metadata": {},
     "output_type": "execute_result"
    }
   ],
   "source": [
    "l1 is l2"
   ]
  },
  {
   "cell_type": "code",
   "execution_count": 60,
   "id": "219aa763",
   "metadata": {},
   "outputs": [
    {
     "data": {
      "text/plain": [
       "False"
      ]
     },
     "execution_count": 60,
     "metadata": {},
     "output_type": "execute_result"
    }
   ],
   "source": [
    "l1 is l3"
   ]
  },
  {
   "cell_type": "code",
   "execution_count": 61,
   "id": "6c3295c1",
   "metadata": {},
   "outputs": [
    {
     "data": {
      "text/plain": [
       "True"
      ]
     },
     "execution_count": 61,
     "metadata": {},
     "output_type": "execute_result"
    }
   ],
   "source": [
    "l1 == l3"
   ]
  },
  {
   "cell_type": "code",
   "execution_count": 68,
   "id": "db1f60c0",
   "metadata": {},
   "outputs": [
    {
     "data": {
      "text/plain": [
       "[1, 2, 3, 4, 5, 6, 7, 8, 9, 10]"
      ]
     },
     "execution_count": 68,
     "metadata": {},
     "output_type": "execute_result"
    }
   ],
   "source": [
    "l1 = [1, 2, 3, 4, 5]\n",
    "l2 = [6, 7, 8, 9, 10]\n",
    "l1 + l2"
   ]
  },
  {
   "cell_type": "code",
   "execution_count": 80,
   "id": "078c17ca",
   "metadata": {},
   "outputs": [
    {
     "data": {
      "text/plain": [
       "False"
      ]
     },
     "execution_count": 80,
     "metadata": {},
     "output_type": "execute_result"
    }
   ],
   "source": [
    "l1 > l2"
   ]
  },
  {
   "cell_type": "markdown",
   "id": "adc22c0d-73d7-49dd-bea3-0a0510468bb5",
   "metadata": {},
   "source": [
    "# Phần III. Cấu trúc rẽ nhánh"
   ]
  },
  {
   "cell_type": "code",
   "execution_count": 5,
   "id": "d5f1687b-19fe-4b07-a557-773474a58dac",
   "metadata": {},
   "outputs": [],
   "source": [
    "#Một hoặc 2 nhánh:\n",
    "#if <điều kiện>:\n",
    "    #Thực hiện trong if\n",
    "    #Thực hiện\n",
    "#else:\n",
    "    #Thực hiện trong else\n",
    "    #Thực hiện\n",
    "#Nhiều nhánh:\n",
    "#if <điều kiện 1>:\n",
    "    #Thực hiện trong điều kiện 1\n",
    "    #Thực hiện\n",
    "#elif:\n",
    "    #Thực hiện trong điều kiện 2\n",
    "    #Thực hiện\n",
    "#...\n",
    "#else:\n",
    "    #Thực hiện trong điều kiện n\n",
    "    #Thực hiện"
   ]
  },
  {
   "cell_type": "code",
   "execution_count": 7,
   "id": "3f46522a-8220-4d07-be21-0392ab293c78",
   "metadata": {},
   "outputs": [],
   "source": [
    "dia_chi = 'ký túc xá'\n",
    "set_dc = {'ký túc xá', 'ktx', 'ký túc'}"
   ]
  },
  {
   "cell_type": "code",
   "execution_count": 9,
   "id": "e50dccd5-2780-438a-9636-8bcb5c27b99f",
   "metadata": {},
   "outputs": [
    {
     "name": "stdout",
     "output_type": "stream",
     "text": [
      "Hợp lệ\n"
     ]
    }
   ],
   "source": [
    "if dia_chi in set_dc:\n",
    "    print('Hợp lệ')"
   ]
  },
  {
   "cell_type": "markdown",
   "id": "01cbb8c8-a855-483f-be29-2b71eb70698c",
   "metadata": {},
   "source": [
    "# Phần IV. Cấu trúc lặp"
   ]
  },
  {
   "cell_type": "code",
   "execution_count": 12,
   "id": "3d4177a9-27b5-4360-a87f-37913cf08dbf",
   "metadata": {},
   "outputs": [],
   "source": [
    "#for item in <kiểu dữ liệu đa phần tử>:\n",
    "    #Thực hiện"
   ]
  },
  {
   "cell_type": "code",
   "execution_count": 14,
   "id": "4e6e4649-5c69-4772-9fa7-ec2a9d50cc57",
   "metadata": {},
   "outputs": [],
   "source": [
    "t = ('Nguyễn Cao Thắng', '22521329', 8.1, 'Giỏi', 'Chưa tốt nghiệp', ['IE221', 'IE224'])"
   ]
  },
  {
   "cell_type": "code",
   "execution_count": 16,
   "id": "8fe773ce-9671-4efb-ab6e-1e64501e19f7",
   "metadata": {},
   "outputs": [
    {
     "name": "stdout",
     "output_type": "stream",
     "text": [
      "Nguyễn Cao Thắng\n",
      "22521329\n",
      "8.1\n",
      "Giỏi\n",
      "Chưa tốt nghiệp\n",
      "['IE221', 'IE224']\n"
     ]
    }
   ],
   "source": [
    "for i in t:\n",
    "    print(i)"
   ]
  },
  {
   "cell_type": "code",
   "execution_count": 18,
   "id": "c8285af4-cac8-4d0e-9d86-3584234c5126",
   "metadata": {},
   "outputs": [
    {
     "data": {
      "text/plain": [
       "[10, 15, 20, 25]"
      ]
     },
     "execution_count": 18,
     "metadata": {},
     "output_type": "execute_result"
    }
   ],
   "source": [
    "list(range(10,30, 5))"
   ]
  },
  {
   "cell_type": "code",
   "execution_count": 20,
   "id": "904024b8-587e-4b41-accb-dfab95332265",
   "metadata": {},
   "outputs": [
    {
     "name": "stdout",
     "output_type": "stream",
     "text": [
      "Lần thứ 0\n",
      "Lần thứ 1\n",
      "Lần thứ 2\n",
      "Lần thứ 3\n",
      "Lần thứ 4\n",
      "Lần thứ 5\n",
      "Lần thứ 6\n",
      "Lần thứ 7\n",
      "Lần thứ 8\n",
      "Lần thứ 9\n"
     ]
    }
   ],
   "source": [
    "for i in list(range(10)):\n",
    "    print('Lần thứ', i)"
   ]
  },
  {
   "cell_type": "code",
   "execution_count": 22,
   "id": "b8ea0574-0b83-4a63-aa16-6e43d9c7d3af",
   "metadata": {},
   "outputs": [],
   "source": [
    "#While <điều kiện>:\n",
    "    #Thực hiện\n",
    "#new_list = [expression for item in iterable if condition]"
   ]
  },
  {
   "cell_type": "code",
   "execution_count": null,
   "id": "f5c71c38-754d-442b-a084-0db3361e0409",
   "metadata": {},
   "outputs": [],
   "source": []
  }
 ],
 "metadata": {
  "kernelspec": {
   "display_name": "Python 3 (ipykernel)",
   "language": "python",
   "name": "python3"
  },
  "language_info": {
   "codemirror_mode": {
    "name": "ipython",
    "version": 3
   },
   "file_extension": ".py",
   "mimetype": "text/x-python",
   "name": "python",
   "nbconvert_exporter": "python",
   "pygments_lexer": "ipython3",
   "version": "3.11.7"
  }
 },
 "nbformat": 4,
 "nbformat_minor": 5
}
